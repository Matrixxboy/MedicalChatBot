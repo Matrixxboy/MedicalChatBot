{
 "cells": [
  {
   "cell_type": "code",
   "execution_count": 12,
   "id": "43ca16dc",
   "metadata": {},
   "outputs": [
    {
     "data": {
      "text/plain": [
       "True"
      ]
     },
     "execution_count": 12,
     "metadata": {},
     "output_type": "execute_result"
    }
   ],
   "source": [
    "from langchain_community.document_loaders import PyPDFLoader,DirectoryLoader\n",
    "from langchain.text_splitter import RecursiveCharacterTextSplitter\n",
    "from dotenv import load_dotenv\n",
    "load_dotenv()"
   ]
  },
  {
   "cell_type": "code",
   "execution_count": 2,
   "id": "59310ee1",
   "metadata": {},
   "outputs": [],
   "source": [
    "#extract the text data from the pdf for model making and testing and trials\n",
    "def load_pdf_file(data):\n",
    "    loader = DirectoryLoader(\n",
    "        data,\n",
    "        glob=\"*pdf\",\n",
    "        loader_cls=PyPDFLoader\n",
    "    )\n",
    "    documents = loader.load()\n",
    "    return documents"
   ]
  },
  {
   "cell_type": "code",
   "execution_count": 3,
   "id": "eec76e2e",
   "metadata": {},
   "outputs": [],
   "source": [
    "extracted_data = load_pdf_file(data='../Data/')"
   ]
  },
  {
   "cell_type": "code",
   "execution_count": 4,
   "id": "5e2fb756",
   "metadata": {},
   "outputs": [],
   "source": [
    "def text_split(extracted_data):\n",
    "    text_spliter = RecursiveCharacterTextSplitter(chunk_size=500,chunk_overlap=20)\n",
    "    text_chunks = text_spliter.split_documents(extracted_data)\n",
    "    return text_chunks"
   ]
  },
  {
   "cell_type": "code",
   "execution_count": 5,
   "id": "95fa099d",
   "metadata": {},
   "outputs": [
    {
     "name": "stdout",
     "output_type": "stream",
     "text": [
      "Length of the text chunks :  6295\n"
     ]
    }
   ],
   "source": [
    "text_chunks = text_split(extracted_data)\n",
    "print(f\"Length of the text chunks : \",len(text_chunks))"
   ]
  },
  {
   "cell_type": "code",
   "execution_count": 33,
   "id": "cfa2b2b0",
   "metadata": {},
   "outputs": [],
   "source": [
    "from langchain.embeddings import HuggingFaceBgeEmbeddings"
   ]
  },
  {
   "cell_type": "code",
   "execution_count": 34,
   "id": "056612be",
   "metadata": {},
   "outputs": [],
   "source": [
    "def Hugging_face_embedding():\n",
    "    embeddings = HuggingFaceBgeEmbeddings(model_name='sentence-transformers/all-MiniLM-L6-v2')\n",
    "    return embeddings"
   ]
  },
  {
   "cell_type": "code",
   "execution_count": 35,
   "id": "f6250d36",
   "metadata": {},
   "outputs": [
    {
     "name": "stderr",
     "output_type": "stream",
     "text": [
      "/tmp/ipykernel_2014/141241356.py:2: LangChainDeprecationWarning: The class `HuggingFaceBgeEmbeddings` was deprecated in LangChain 0.2.2 and will be removed in 1.0. An updated version of the class exists in the :class:`~langchain-huggingface package and should be used instead. To use it run `pip install -U :class:`~langchain-huggingface` and import as `from :class:`~langchain_huggingface import HuggingFaceEmbeddings``.\n",
      "  embeddings = HuggingFaceBgeEmbeddings(model_name='sentence-transformers/all-MiniLM-L6-v2')\n"
     ]
    }
   ],
   "source": [
    "embeddings = Hugging_face_embedding()"
   ]
  },
  {
   "cell_type": "code",
   "execution_count": 52,
   "id": "c797570d",
   "metadata": {},
   "outputs": [],
   "source": [
    "import os\n",
    "from pinecone import Pinecone, ServerlessSpec\n",
    "from dotenv import load_dotenv\n",
    "\n",
    "load_dotenv()\n",
    "\n",
    "PINECONE_API_KEY = os.environ.get(\"PINECONE_API_KEY\")\n",
    "\n",
    "# ✅ New way to initialize client in v3.x\n",
    "pc = Pinecone(api_key=PINECONE_API_KEY)\n",
    "\n",
    "# ✅ Create index if it doesn't exist\n",
    "index_name = \"medbot\"\n",
    "\n",
    "if index_name not in [index.name for index in pc.list_indexes()]:\n",
    "    pc.create_index(\n",
    "        name=index_name,\n",
    "        dimension=384,\n",
    "        metric=\"cosine\",\n",
    "        spec=ServerlessSpec(\n",
    "            cloud=\"aws\",\n",
    "            region=\"us-east-1\"\n",
    "        )\n",
    "    )"
   ]
  },
  {
   "cell_type": "code",
   "execution_count": 68,
   "id": "f5e73b22",
   "metadata": {},
   "outputs": [],
   "source": [
    "OPENAI_API_KEY = os.environ.get(\"OPENAI_API_KEY\")"
   ]
  },
  {
   "cell_type": "code",
   "execution_count": null,
   "id": "9daf323e",
   "metadata": {},
   "outputs": [],
   "source": [
    "import os\n",
    "os.environ[\"PINECONE_API_KEY\"] = PINECONE_API_KEY"
   ]
  },
  {
   "cell_type": "code",
   "execution_count": 53,
   "id": "319983f9",
   "metadata": {},
   "outputs": [],
   "source": [
    "from langchain_pinecone import PineconeVectorStore\n",
    "dosearch = PineconeVectorStore.from_documents(\n",
    "    documents= text_chunks,\n",
    "    index_name = index_name,\n",
    "    embedding=embeddings,\n",
    ")"
   ]
  },
  {
   "cell_type": "code",
   "execution_count": 55,
   "id": "a39aadd7",
   "metadata": {},
   "outputs": [
    {
     "data": {
      "text/plain": [
       "<langchain_pinecone.vectorstores.PineconeVectorStore at 0x7f7ee5313680>"
      ]
     },
     "execution_count": 55,
     "metadata": {},
     "output_type": "execute_result"
    }
   ],
   "source": [
    "dosearch = PineconeVectorStore.from_existing_index(\n",
    "    index_name=index_name,\n",
    "    embedding=embeddings\n",
    ")\n",
    "dosearch"
   ]
  },
  {
   "cell_type": "code",
   "execution_count": 57,
   "id": "f4a33e9a",
   "metadata": {},
   "outputs": [],
   "source": [
    "retriever = dosearch.as_retriever(search_type=\"similarity\",search_kwargs={\"k\":3})"
   ]
  },
  {
   "cell_type": "code",
   "execution_count": 58,
   "id": "9b3100f1",
   "metadata": {},
   "outputs": [],
   "source": [
    "retrievr_docs = retriever.invoke(\"What is fever?\")"
   ]
  },
  {
   "cell_type": "code",
   "execution_count": 59,
   "id": "4db2758f",
   "metadata": {},
   "outputs": [
    {
     "name": "stdout",
     "output_type": "stream",
     "text": [
      "[Document(id='ee3d6d93-154c-482e-a15a-dacd44cccd54', metadata={'author': 'Clifford', 'creationdate': '2004-12-28T16:09:18-05:00', 'creator': 'PyPDF', 'enhanced': 'By PDF Enhancer 2.5/Win', 'moddate': '2006-07-11T00:27:43+02:00', 'page': 38.0, 'page_label': '39', 'producer': 'PDFlib+PDI 5.0.0 (SunOS)', 'source': '../Data/Alternative_Medicine_S_to_Z.pdf', 'spdf': '1096', 'total_pages': 666.0}, page_content='agitated, alternately hot and cold, thirsty , and patients\\nwhose fever is worse after midnight.\\n• Byronia 6c for the patient who is shivery and sweating,\\nvery thirsty at long intervals, and having headaches and\\npain.\\n• F errum phosphoricum (iron phosphate) 6c for a mild\\nfever of slow onset accompanied by frequent bouts of\\nsweating, shivering, and headaches.\\nW estern herbalism may be used to treat fever, but\\ntreatment requires a qualified medical herbalist. The'), Document(id='cd3bd12b-e260-4671-b9a7-e9e6c5ec0c96', metadata={'author': 'Clifford', 'creationdate': '2004-12-28T16:09:18-05:00', 'creator': 'PyPDF', 'enhanced': 'By PDF Enhancer 2.5/Win', 'moddate': '2006-07-11T00:27:43+02:00', 'page': 37.0, 'page_label': '38', 'producer': 'PDFlib+PDI 5.0.0 (SunOS)', 'source': '../Data/Alternative_Medicine_S_to_Z.pdf', 'spdf': '1096', 'total_pages': 666.0}, page_content='tion that is also associated with a fever and rash. Howev-\\ner, scarlet fever can be distinguished from measles by the\\nquality of the rash, the presence of a sore throat in scarlet\\nfever, and the absence of the severe eye inflammation\\nand runny nose that usually accompany measles.\\nBecause scarlet fever may begin with a sore throat, the\\ndoctor will first determine if the problem is bacterial or\\nviral in nature by checking for specific symptoms. For ex-'), Document(id='ffd37722-254b-4d74-a357-67cb47dece3c', metadata={'author': 'Clifford', 'creationdate': '2004-12-28T16:09:18-05:00', 'creator': 'PyPDF', 'enhanced': 'By PDF Enhancer 2.5/Win', 'moddate': '2006-07-11T00:27:43+02:00', 'page': 578.0, 'page_label': '579', 'producer': 'PDFlib+PDI 5.0.0 (SunOS)', 'source': '../Data/Alternative_Medicine_S_to_Z.pdf', 'spdf': '1096', 'total_pages': 666.0}, page_content='for fever, 4:1794\\nfor food poisoning, 2:778\\nfor fungal infections, 2:794\\nfor genital herpes, 2:825\\nfor gonorrhea, 2:860\\nfor heart disease, 2:922\\nfor hypertension, 2:1027\\nfor infections, 2:1066\\nfor ischemia, 2:1109\\nfor kidney infections, 2:1154\\nfor lice infestation, 3:1212\\nfor Lyme disease, 3:1254\\nfor measles, 3:1305\\nfor Ménière’s disease,3:1323\\nfor mononucleosis, 3:1370\\nfor otitis media, 2:661, 810, 811\\nfor radiation injuries, 3:1695\\nfor retinopathy ,3:1734\\nfor rhinitis, 3:1743')]\n"
     ]
    }
   ],
   "source": [
    "print(retrievr_docs)"
   ]
  },
  {
   "cell_type": "code",
   "execution_count": 79,
   "id": "61ddfbf3",
   "metadata": {},
   "outputs": [],
   "source": [
    "from langchain_groq import ChatGroq\n",
    "from langchain_core.prompts import ChatPromptTemplate\n",
    "GROQ_API_KEY = os.environ.get('GROQ_API_KEY')\n",
    "os.environ[\"GROQ_API_KEY\"] = GROQ_API_KEY  # or load from dotenv\n",
    "\n",
    "llm = ChatGroq(\n",
    "    model=\"llama3-8b-8192\",  # or try \"llama3-70b-8192\" or \"mixtral-8x7b-32768\"\n",
    "    temperature=0.4,\n",
    "    max_tokens=500\n",
    ")"
   ]
  },
  {
   "cell_type": "code",
   "execution_count": 81,
   "id": "2f16a02d",
   "metadata": {},
   "outputs": [],
   "source": [
    "from langchain.chains import create_retrieval_chain\n",
    "from langchain.chains.combine_documents import create_stuff_documents_chain\n",
    "from langchain_core.prompts import ChatPromptTemplate\n",
    "\n",
    "systemPrompt =(\n",
    "    \"You are a helpful, smart, and safety-aware AI assistant.\"\n",
    "    \"You are an assistant for question answering task.\"\n",
    "    \"use the following piece of retrieved context answer\"\n",
    "    \"the question If you don't know the answer , say that you\"\n",
    "    \"don't know.Use two sentences maximum and keep the\"\n",
    "    \"answer concise\"\n",
    "    \"\\n\\n\"\n",
    "    \"{question}\"   \n",
    ")\n",
    "\n",
    "prompt = ChatPromptTemplate.from_messages(\n",
    "    [\n",
    "        (\"system\",systemPrompt),\n",
    "        (\"human\",\"{question}\"),\n",
    "    ]\n",
    ")\n"
   ]
  },
  {
   "cell_type": "code",
   "execution_count": 82,
   "id": "5b8156c0",
   "metadata": {},
   "outputs": [],
   "source": [
    "chain = prompt | llm"
   ]
  },
  {
   "cell_type": "code",
   "execution_count": 83,
   "id": "d72ccaa5",
   "metadata": {},
   "outputs": [
    {
     "name": "stdout",
     "output_type": "stream",
     "text": [
      "Some natural treatments for fever include drinking plenty of fluids, such as water, clear broth, or electrolyte-rich beverages like coconut water or sports drinks, and using a lukewarm bath or shower to help bring down the body temperature. Additionally, over-the-counter pain relievers like acetaminophen or ibuprofen can be used, but it's essential to follow the recommended dosage and consult with a healthcare professional if necessary.\n"
     ]
    }
   ],
   "source": [
    "response = chain.invoke({\"question\": \"What are natural treatments for fever?\"})\n",
    "print(response.content)"
   ]
  }
 ],
 "metadata": {
  "kernelspec": {
   "display_name": "venv",
   "language": "python",
   "name": "python3"
  },
  "language_info": {
   "codemirror_mode": {
    "name": "ipython",
    "version": 3
   },
   "file_extension": ".py",
   "mimetype": "text/x-python",
   "name": "python",
   "nbconvert_exporter": "python",
   "pygments_lexer": "ipython3",
   "version": "3.13.3"
  }
 },
 "nbformat": 4,
 "nbformat_minor": 5
}
